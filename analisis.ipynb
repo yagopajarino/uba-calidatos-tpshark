{
 "cells": [
  {
   "cell_type": "code",
   "execution_count": 221,
   "metadata": {},
   "outputs": [],
   "source": [
    "import pandas as pd\n",
    "import numpy as np\n",
    "from fuzzywuzzy import fuzz, process\n",
    "import seaborn as sns\n",
    "import matplotlib.pyplot as plt"
   ]
  },
  {
   "cell_type": "code",
   "execution_count": 268,
   "metadata": {},
   "outputs": [],
   "source": [
    "pd.set_option('display.max_columns', None)\n",
    "pd.set_option('display.max_rows', None)"
   ]
  },
  {
   "cell_type": "code",
   "execution_count": 223,
   "metadata": {},
   "outputs": [],
   "source": [
    "df = pd.read_excel(\"descargas/GSAF5.xls\")"
   ]
  },
  {
   "cell_type": "code",
   "execution_count": 224,
   "metadata": {},
   "outputs": [],
   "source": [
    "from xlrd import open_workbook\n",
    "wb = open_workbook('descargas/GSAF5.xls', formatting_info=True)\n",
    "sheet = wb.sheet_by_index(0)\n",
    "bgcol=[]\n",
    "for row in range(1,sheet.nrows):\n",
    "    column = 1\n",
    "    cell = sheet.cell(row, column)  \n",
    "    fmt = wb.xf_list[cell.xf_index]\n",
    "    bgcol.append(fmt.background.pattern_colour_index)\n"
   ]
  },
  {
   "cell_type": "code",
   "execution_count": 225,
   "metadata": {},
   "outputs": [],
   "source": [
    "wb.colour_map[64]"
   ]
  },
  {
   "cell_type": "code",
   "execution_count": 226,
   "metadata": {},
   "outputs": [
    {
     "data": {
      "text/plain": [
       "{8, 26, 42, 43, 44, 47, 53, 64}"
      ]
     },
     "execution_count": 226,
     "metadata": {},
     "output_type": "execute_result"
    }
   ],
   "source": [
    "set(bgcol)"
   ]
  },
  {
   "cell_type": "code",
   "execution_count": 227,
   "metadata": {},
   "outputs": [],
   "source": [
    "# Esto hecho a mano\n",
    "paleta = {\n",
    "    8: \"Orange\",\n",
    "    26: \"Tan\",\n",
    "    42: \"Green\",\n",
    "    43: \"Tan\",\n",
    "    44: \"Blue\",\n",
    "    47: \"Tan\",\n",
    "    53: \"Orange\",\n",
    "    64: \"White\"\n",
    "}"
   ]
  },
  {
   "cell_type": "code",
   "execution_count": 228,
   "metadata": {},
   "outputs": [],
   "source": [
    "cell_colors = [paleta[x] for x in bgcol]"
   ]
  },
  {
   "cell_type": "code",
   "execution_count": 229,
   "metadata": {},
   "outputs": [],
   "source": [
    "df[\"cell_color\"] = pd.Series(cell_colors)"
   ]
  },
  {
   "cell_type": "code",
   "execution_count": 230,
   "metadata": {},
   "outputs": [],
   "source": [
    "map_tipo_incidente = {\n",
    "    \"Tan\": \"Unprovoked Incidents\",\n",
    "    \"Orange\": \"Provoked Incidents\",\n",
    "    \"Green\": \"Attacks on Boats\",\n",
    "    \"Yellow\": \"Air / Sea Disasters\",\n",
    "    \"Blue\": \"Questionable Incidents\",\n",
    "    \"White\": \"Other\"\n",
    "}"
   ]
  },
  {
   "cell_type": "code",
   "execution_count": 231,
   "metadata": {},
   "outputs": [],
   "source": [
    "df[\"tipo_incidente\"] = df[\"cell_color\"].map(map_tipo_incidente)"
   ]
  },
  {
   "cell_type": "code",
   "execution_count": 232,
   "metadata": {},
   "outputs": [
    {
     "data": {
      "text/plain": [
       "Unprovoked Incidents      5387\n",
       "Provoked Incidents         638\n",
       "Questionable Incidents     585\n",
       "Attacks on Boats           363\n",
       "Name: tipo_incidente, dtype: int64"
      ]
     },
     "execution_count": 232,
     "metadata": {},
     "output_type": "execute_result"
    }
   ],
   "source": [
    "df[\"tipo_incidente\"].value_counts()"
   ]
  },
  {
   "cell_type": "code",
   "execution_count": 233,
   "metadata": {},
   "outputs": [
    {
     "data": {
      "text/plain": [
       "Unprovoked             5135\n",
       "Provoked                636\n",
       "Invalid                 552\n",
       "Watercraft              355\n",
       "Sea Disaster            242\n",
       "Questionable             22\n",
       "NaN                      18\n",
       "Boat                      7\n",
       " Provoked                 2\n",
       "?                         1\n",
       "Unconfirmed               1\n",
       "Unverified                1\n",
       "Under investigation       1\n",
       "Name: Type, dtype: int64"
      ]
     },
     "execution_count": 233,
     "metadata": {},
     "output_type": "execute_result"
    }
   ],
   "source": [
    "df[\"Type\"].value_counts(dropna=False)"
   ]
  },
  {
   "cell_type": "code",
   "execution_count": 234,
   "metadata": {},
   "outputs": [
    {
     "data": {
      "text/plain": [
       "UNPROVOKED             5135\n",
       "PROVOKED                638\n",
       "INVALID                 552\n",
       "WATERCRAFT              355\n",
       "SEA DISASTER            242\n",
       "QUESTIONABLE             22\n",
       "NaN                      18\n",
       "BOAT                      7\n",
       "                          1\n",
       "UNCONFIRMED               1\n",
       "UNVERIFIED                1\n",
       "UNDER INVESTIGATION       1\n",
       "Name: Type, dtype: int64"
      ]
     },
     "execution_count": 234,
     "metadata": {},
     "output_type": "execute_result"
    }
   ],
   "source": [
    "df[\"Type\"] = df[\"Type\"].str.strip()\n",
    "df[\"Type\"] = df[\"Type\"].str.upper()\n",
    "df[\"Type\"] = df[\"Type\"].str.replace(r'[^\\w\\s&\\/]', '', regex=True)\n",
    "\n",
    "df[\"Type\"].value_counts(dropna=False)"
   ]
  },
  {
   "cell_type": "code",
   "execution_count": 235,
   "metadata": {},
   "outputs": [],
   "source": [
    "df = df[df['Type'] != 'INVALID']"
   ]
  },
  {
   "cell_type": "code",
   "execution_count": 236,
   "metadata": {},
   "outputs": [
    {
     "data": {
      "image/png": "[encoded data removed]",
      "text/plain": [
       "<Figure size 1000x600 with 2 Axes>"
      ]
     },
     "metadata": {},
     "output_type": "display_data"
    }
   ],
   "source": [
    "def plot_heatmap(df):\n",
    "    contingency_table = pd.crosstab(df['tipo_incidente'], df['Type'])\n",
    "    \n",
    "    plt.figure(figsize=(10, 6))\n",
    "    sns.heatmap(contingency_table, annot=True, cmap=\"YlGnBu\", fmt=\"d\")\n",
    "    plt.title(\"Color vs Type\")\n",
    "    plt.xlabel(\"Type\")\n",
    "    plt.ylabel(\"Color\")\n",
    "    plt.show()\n",
    "\n",
    "plot_heatmap(df)"
   ]
  },
  {
   "cell_type": "code",
   "execution_count": 237,
   "metadata": {},
   "outputs": [],
   "source": [
    "# Unificamos BOAT y WATERCRAFT\n",
    "df['Type'] = df['Type'].replace(['WATERCRAFT'], 'BOAT')\n",
    "\n",
    "# Todos los que no caen en las categorias pedidas los metemos abajo de others, igual son poquitos\n",
    "df['Type'] = df['Type'].replace(['UNCONFIRMED', '', 'UNVERIFIED', 'UNDER INVESTIGATION'], 'OTHERS')"
   ]
  },
  {
   "cell_type": "code",
   "execution_count": 238,
   "metadata": {},
   "outputs": [
    {
     "data": {
      "image/png": "[encoded data removed]",
      "text/plain": [
       "<Figure size 1000x600 with 2 Axes>"
      ]
     },
     "metadata": {},
     "output_type": "display_data"
    }
   ],
   "source": [
    "plot_heatmap(df)"
   ]
  },
  {
   "cell_type": "code",
   "execution_count": 239,
   "metadata": {},
   "outputs": [],
   "source": [
    "# De los que estan en OTHERS, si el color nos da info tomamos eso y lo estandarizamos\n",
    "tipo_incidente_a_type = { \n",
    "    'Unprovoked Incidents': 'UNPROVOKED',\n",
    "    'Provoked Incidents': 'PROVOKED',\n",
    "    'Questionable Incidents': 'QUESTIONABLE',\n",
    "    'Attacks on Boats': 'BOAT'\n",
    "}\n",
    "df.loc[df['Type'] == 'OTHERS', 'Type'] = df['tipo_incidente'].map(tipo_incidente_a_type)"
   ]
  },
  {
   "cell_type": "code",
   "execution_count": 240,
   "metadata": {},
   "outputs": [
    {
     "data": {
      "image/png": "[encoded data removed]",
      "text/plain": [
       "<Figure size 1000x600 with 2 Axes>"
      ]
     },
     "metadata": {},
     "output_type": "display_data"
    }
   ],
   "source": [
    "plot_heatmap(df)"
   ]
  },
  {
   "cell_type": "code",
   "execution_count": 241,
   "metadata": {},
   "outputs": [
    {
     "data": {
      "text/plain": [
       "UNPROVOKED      5137\n",
       "PROVOKED         638\n",
       "BOAT             362\n",
       "SEA DISASTER     242\n",
       "QUESTIONABLE      24\n",
       "Name: Type, dtype: int64"
      ]
     },
     "execution_count": 241,
     "metadata": {},
     "output_type": "execute_result"
    }
   ],
   "source": [
    "# Finalmente, en los que hay diferencia creemos lo que dice la columna, que es menos error prone que un color\n",
    "# y tiene cosas como sea disaster que \n",
    "df[\"Type\"].value_counts()"
   ]
  },
  {
   "cell_type": "markdown",
   "metadata": {},
   "source": [
    "# Países\n",
    "\n",
    "Limpieza de datos de ataques por país.\n",
    "\n",
    "En este caso nos interesa poder responder la pregunta: **¿cuántos ataques se registraron por país?**\n",
    "\n",
    "Para ello, nos interesaría contar con una fuente confiable de países sobre la cual asignar a cada registro del dataset.\n",
    "\n",
    "Definimos usar el dataset https://github.com/google/dspl/blob/master/samples/google/canonical/countries.csv que contiene nombres de países incluídos en el Dataset Publishing Language de Google."
   ]
  },
  {
   "cell_type": "code",
   "execution_count": 242,
   "metadata": {},
   "outputs": [
    {
     "data": {
      "text/plain": [
       "0.0070082541660177545"
      ]
     },
     "execution_count": 242,
     "metadata": {},
     "output_type": "execute_result"
    }
   ],
   "source": [
    "# Vemos cuantos nulos hay\n",
    "df[\"Country\"].isnull().sum() / df.shape[0]"
   ]
  },
  {
   "cell_type": "markdown",
   "metadata": {},
   "source": [
    "Luego definimos eliminar los registros sin dato de país"
   ]
  },
  {
   "cell_type": "code",
   "execution_count": 243,
   "metadata": {},
   "outputs": [],
   "source": [
    "df.dropna(subset=[\"Country\"], inplace=True)"
   ]
  },
  {
   "cell_type": "code",
   "execution_count": 244,
   "metadata": {},
   "outputs": [
    {
     "data": {
      "text/plain": [
       "True"
      ]
     },
     "execution_count": 244,
     "metadata": {},
     "output_type": "execute_result"
    }
   ],
   "source": [
    "# verificamos que no haya nulos\n",
    "df[\"Country\"].isnull().sum() == 0"
   ]
  },
  {
   "cell_type": "markdown",
   "metadata": {},
   "source": [
    "En lo que sigue intentamos estandarizar y limpiar los nombres de países"
   ]
  },
  {
   "cell_type": "code",
   "execution_count": 245,
   "metadata": {},
   "outputs": [
    {
     "data": {
      "text/plain": [
       "USA                                      2356\n",
       "AUSTRALIA                                1361\n",
       "SOUTH AFRICA                              532\n",
       "PAPUA NEW GUINEA                          134\n",
       "NEW ZEALAND                               131\n",
       "BAHAMAS                                   131\n",
       "BRAZIL                                    112\n",
       "MEXICO                                     92\n",
       "FIJI                                       67\n",
       "NEW CALEDONIA                              64\n",
       "REUNION                                    60\n",
       "ITALY                                      60\n",
       "PHILIPPINES                                59\n",
       "CUBA                                       46\n",
       "EGYPT                                      46\n",
       "MOZAMBIQUE                                 42\n",
       "INDIA                                      40\n",
       "FRENCH POLYNESIA                           36\n",
       "SPAIN                                      36\n",
       "PANAMA                                     31\n",
       "JAPAN                                      31\n",
       "SOLOMON ISLANDS                            30\n",
       "IRAN                                       29\n",
       "CROATIA                                    28\n",
       "JAMAICA                                    27\n",
       "HONG KONG                                  24\n",
       "INDONESIA                                  23\n",
       "ENGLAND                                    23\n",
       "GREECE                                     19\n",
       "PACIFIC OCEAN                              16\n",
       "COSTA RICA                                 16\n",
       "ATLANTIC OCEAN                             15\n",
       "VIETNAM                                    15\n",
       "TONGA                                      14\n",
       "VANUATU                                    14\n",
       "CANADA                                     13\n",
       "BERMUDA                                    13\n",
       "SOUTH ATLANTIC OCEAN                       12\n",
       "THAILAND                                   12\n",
       "IRAQ                                       12\n",
       "SRI LANKA                                  12\n",
       "TURKEY                                     11\n",
       "VENEZUELA                                  11\n",
       "FRANCE                                     11\n",
       "MARSHALL ISLANDS                           11\n",
       "ECUADOR                                    11\n",
       "SAMOA                                      10\n",
       "UNITED KINGDOM                             10\n",
       "NEW GUINEA                                 10\n",
       "MAURITIUS                                  10\n",
       "COLUMBIA                                   10\n",
       "KENYA                                      10\n",
       "TAIWAN                                      9\n",
       "SENEGAL                                     9\n",
       "SEYCHELLES                                  9\n",
       "CHINA                                       9\n",
       "SOUTH KOREA                                 8\n",
       "SIERRA LEONE                                8\n",
       "CHILE                                       8\n",
       "SCOTLAND                                    8\n",
       "DOMINICAN REPUBLIC                          7\n",
       "CARIBBEAN SEA                               7\n",
       "ISRAEL                                      7\n",
       "MADAGASCAR                                  7\n",
       "TANZANIA                                    7\n",
       "SINGAPORE                                   6\n",
       "OKINAWA                                     6\n",
       "KIRIBATI                                    6\n",
       "NORTH PACIFIC OCEAN                         6\n",
       "NEW BRITAIN                                 6\n",
       "YEMEN                                       6\n",
       "BELIZE                                      6\n",
       "LIBYA                                       6\n",
       "BARBADOS                                    6\n",
       "NICARAGUA                                   6\n",
       "PALAU                                       5\n",
       "INDIAN OCEAN                                5\n",
       "REUNION ISLAND                              5\n",
       "MALTA                                       5\n",
       "TURKS & CAICOS                              5\n",
       "SOMALIA                                     5\n",
       "MID ATLANTIC OCEAN                          5\n",
       "NIGERIA                                     4\n",
       "EL SALVADOR                                 4\n",
       "BURMA                                       4\n",
       "MALAYSIA                                    4\n",
       "RUSSIA                                      4\n",
       "SAUDI ARABIA                                4\n",
       "AZORES                                      4\n",
       "GRENADA                                     4\n",
       "URUGUAY                                     4\n",
       "PERSIAN GULF                                4\n",
       "Australia                                   4\n",
       "SUDAN                                       4\n",
       "Maldive Islands                             3\n",
       "GUAM                                        3\n",
       "LEBANON                                     3\n",
       "NORTH ATLANTIC OCEAN                        3\n",
       "MICRONESIA                                  3\n",
       "CEYLON                                      3\n",
       "PORTUGAL                                    3\n",
       "MALDIVES                                    3\n",
       "AMERICAN SAMOA                              3\n",
       "TUNISIA                                     3\n",
       "MARTINIQUE                                  3\n",
       "HONDURAS                                    3\n",
       "GUYANA                                      2\n",
       "TOBAGO                                      2\n",
       "NAMIBIA                                     2\n",
       "MEDITERRANEAN SEA                           2\n",
       "PERU                                        2\n",
       "SOUTH PACIFIC OCEAN                         2\n",
       "LIBERIA                                     2\n",
       "CENTRAL PACIFIC                             2\n",
       "SOUTHWEST PACIFIC OCEAN                     2\n",
       "MONTENEGRO                                  2\n",
       "EGYPT                                       2\n",
       "PACIFIC OCEAN                               2\n",
       "WEST INDIES                                 2\n",
       "GUINEA                                      2\n",
       "HAITI                                       2\n",
       "Honduras                                    2\n",
       "Fiji                                        2\n",
       "UNITED ARAB EMIRATES                        2\n",
       " TONGA                                      2\n",
       "ARGENTINA                                   2\n",
       "ST HELENA, British overseas territory       2\n",
       "TRINIDAD & TOBAGO                           2\n",
       "YEMEN                                       2\n",
       "IRELAND                                     2\n",
       "CYPRUS                                      1\n",
       "French Polynesia                            1\n",
       "BRITISH NEW GUINEA                          1\n",
       "PARAGUAY                                    1\n",
       "Tobago                                      1\n",
       "Bahamas                                     1\n",
       "TRINIDAD                                    1\n",
       "Mexico                                      1\n",
       "FALKLAND ISLANDS                            1\n",
       "CRETE                                       1\n",
       "GEORGIA                                     1\n",
       "Coral Sea                                   1\n",
       "KUWAIT                                      1\n",
       "SAN DOMINGO                                 1\n",
       "COLOMBIA                                    1\n",
       "TURKS and CaICOS                            1\n",
       "MONACO                                      1\n",
       "CAPE VERDE                                  1\n",
       "MeXICO                                      1\n",
       "ICELAND                                     1\n",
       "OCEAN                                       1\n",
       "ANGOLA                                      1\n",
       "TUVALU                                      1\n",
       "SLOVENIA                                    1\n",
       "ASIA?                                       1\n",
       "RED SEA?                                    1\n",
       "KOREA                                       1\n",
       "BAHREIN                                     1\n",
       "DJIBOUTI                                    1\n",
       "Between PORTUGAL & INDIA                    1\n",
       "ROATAN                                      1\n",
       "SWEDEN                                      1\n",
       "Morocco                                     1\n",
       "GREENLAND                                   1\n",
       "ANTIGUA                                     1\n",
       "GHANA                                       1\n",
       "TASMAN SEA                                  1\n",
       "Coast of AFRICA                             1\n",
       "ALGERIA                                     1\n",
       "AFRICA                                      1\n",
       "Jamaica                                     1\n",
       "Belize                                      1\n",
       "COOK ISLANDS                                1\n",
       "EQUATORIAL GUINEA / CAMEROON                1\n",
       "ANDAMAN ISLANDS                             1\n",
       "Turks and Caicos                            1\n",
       "INDIAN OCEAN?                               1\n",
       "CURACAO                                     1\n",
       "SOLOMON ISLANDS / VANUATU                   1\n",
       "MID-PACIFC OCEAN                            1\n",
       "BAY OF BENGAL                               1\n",
       "PUERTO RICO                                 1\n",
       "BRITISH WEST INDIES                         1\n",
       "ADMIRALTY ISLANDS                           1\n",
       "ST. MARTIN                                  1\n",
       "FEDERATED STATES OF MICRONESIA              1\n",
       "RED SEA                                     1\n",
       "DIEGO GARCIA                                1\n",
       "PALESTINIAN TERRITORIES                     1\n",
       "JOHNSTON ISLAND                             1\n",
       "UNITED ARAB EMIRATES (UAE)                  1\n",
       "NORWAY                                      1\n",
       "GULF OF ADEN                                1\n",
       "Sierra Leone                                1\n",
       "ST. MAARTIN                                 1\n",
       "GRAND CAYMAN                                1\n",
       "BRITISH ISLES                               1\n",
       "MEXICO                                      1\n",
       "WESTERN SAMOA                               1\n",
       "BANGLADESH                                  1\n",
       "SOUTH CHINA SEA                             1\n",
       "EGYPT / ISRAEL                              1\n",
       "ARUBA                                       1\n",
       "RED SEA / INDIAN OCEAN                      1\n",
       "NORTH SEA                                   1\n",
       "JORDAN                                      1\n",
       "Maldives                                    1\n",
       "NORTHERN ARABIAN SEA                        1\n",
       "South Africa                                1\n",
       "New Zealand                                 1\n",
       " PHILIPPINES                                1\n",
       "British Overseas Territory                  1\n",
       "JAVA                                        1\n",
       "IRAN / IRAQ                                 1\n",
       "NORTHERN MARIANA ISLANDS                    1\n",
       "ST KITTS / NEVIS                            1\n",
       "NICARAGUA                                   1\n",
       "NETHERLANDS ANTILLES                        1\n",
       "ST MARTIN                                   1\n",
       "SUDAN?                                      1\n",
       "THE BALKANS                                 1\n",
       "NORTH ATLANTIC OCEAN                        1\n",
       "MAYOTTE                                     1\n",
       "GABON                                       1\n",
       "ANDAMAN / NICOBAR ISLANDAS                  1\n",
       "MALDIVE ISLANDS                             1\n",
       "CEYLON (SRI LANKA)                          1\n",
       "Name: Country, dtype: int64"
      ]
     },
     "execution_count": 245,
     "metadata": {},
     "output_type": "execute_result"
    }
   ],
   "source": [
    "# Vemos recuentro por pais\n",
    "df[\"Country\"].value_counts()"
   ]
  },
  {
   "cell_type": "markdown",
   "metadata": {},
   "source": [
    "Rápidamente encontramos algunos registros en minúscula, otros en mayúscula, con espacios en blanco al inicio o al final. Modificamos todos esos casos."
   ]
  },
  {
   "cell_type": "code",
   "execution_count": 246,
   "metadata": {},
   "outputs": [],
   "source": [
    "def normalize_countries(df):\n",
    "    df[\"Country\"] = df[\"Country\"].str.strip()\n",
    "    df[\"Country\"] = df[\"Country\"].str.upper()\n",
    "    df['Country'] = df['Country'].str.replace(r'[^\\w\\s&\\/]', '', regex=True)"
   ]
  },
  {
   "cell_type": "code",
   "execution_count": 247,
   "metadata": {},
   "outputs": [],
   "source": [
    "normalize_countries(df)"
   ]
  },
  {
   "cell_type": "code",
   "execution_count": 248,
   "metadata": {},
   "outputs": [
    {
     "data": {
      "text/plain": [
       "['ADMIRALTY ISLANDS',\n",
       " 'AFRICA',\n",
       " 'ALGERIA',\n",
       " 'AMERICAN SAMOA',\n",
       " 'ANDAMAN / NICOBAR ISLANDAS',\n",
       " 'ANDAMAN ISLANDS',\n",
       " 'ANGOLA',\n",
       " 'ANTIGUA',\n",
       " 'ARGENTINA',\n",
       " 'ARUBA',\n",
       " 'ASIA',\n",
       " 'ATLANTIC OCEAN',\n",
       " 'AUSTRALIA',\n",
       " 'AZORES',\n",
       " 'BAHAMAS',\n",
       " 'BAHREIN',\n",
       " 'BANGLADESH',\n",
       " 'BARBADOS',\n",
       " 'BAY OF BENGAL',\n",
       " 'BELIZE',\n",
       " 'BERMUDA',\n",
       " 'BETWEEN PORTUGAL & INDIA',\n",
       " 'BRAZIL',\n",
       " 'BRITISH ISLES',\n",
       " 'BRITISH NEW GUINEA',\n",
       " 'BRITISH OVERSEAS TERRITORY',\n",
       " 'BRITISH WEST INDIES',\n",
       " 'BURMA',\n",
       " 'CANADA',\n",
       " 'CAPE VERDE',\n",
       " 'CARIBBEAN SEA',\n",
       " 'CENTRAL PACIFIC',\n",
       " 'CEYLON',\n",
       " 'CEYLON SRI LANKA',\n",
       " 'CHILE',\n",
       " 'CHINA',\n",
       " 'COAST OF AFRICA',\n",
       " 'COLOMBIA',\n",
       " 'COLUMBIA',\n",
       " 'COOK ISLANDS',\n",
       " 'CORAL SEA',\n",
       " 'COSTA RICA',\n",
       " 'CRETE',\n",
       " 'CROATIA',\n",
       " 'CUBA',\n",
       " 'CURACAO',\n",
       " 'CYPRUS',\n",
       " 'DIEGO GARCIA',\n",
       " 'DJIBOUTI',\n",
       " 'DOMINICAN REPUBLIC',\n",
       " 'ECUADOR',\n",
       " 'EGYPT',\n",
       " 'EGYPT / ISRAEL',\n",
       " 'EL SALVADOR',\n",
       " 'ENGLAND',\n",
       " 'EQUATORIAL GUINEA / CAMEROON',\n",
       " 'FALKLAND ISLANDS',\n",
       " 'FEDERATED STATES OF MICRONESIA',\n",
       " 'FIJI',\n",
       " 'FRANCE',\n",
       " 'FRENCH POLYNESIA',\n",
       " 'GABON',\n",
       " 'GEORGIA',\n",
       " 'GHANA',\n",
       " 'GRAND CAYMAN',\n",
       " 'GREECE',\n",
       " 'GREENLAND',\n",
       " 'GRENADA',\n",
       " 'GUAM',\n",
       " 'GUINEA',\n",
       " 'GULF OF ADEN',\n",
       " 'GUYANA',\n",
       " 'HAITI',\n",
       " 'HONDURAS',\n",
       " 'HONG KONG',\n",
       " 'ICELAND',\n",
       " 'INDIA',\n",
       " 'INDIAN OCEAN',\n",
       " 'INDONESIA',\n",
       " 'IRAN',\n",
       " 'IRAN / IRAQ',\n",
       " 'IRAQ',\n",
       " 'IRELAND',\n",
       " 'ISRAEL',\n",
       " 'ITALY',\n",
       " 'JAMAICA',\n",
       " 'JAPAN',\n",
       " 'JAVA',\n",
       " 'JOHNSTON ISLAND',\n",
       " 'JORDAN',\n",
       " 'KENYA',\n",
       " 'KIRIBATI',\n",
       " 'KOREA',\n",
       " 'KUWAIT',\n",
       " 'LEBANON',\n",
       " 'LIBERIA',\n",
       " 'LIBYA',\n",
       " 'MADAGASCAR',\n",
       " 'MALAYSIA',\n",
       " 'MALDIVE ISLANDS',\n",
       " 'MALDIVES',\n",
       " 'MALTA',\n",
       " 'MARSHALL ISLANDS',\n",
       " 'MARTINIQUE',\n",
       " 'MAURITIUS',\n",
       " 'MAYOTTE',\n",
       " 'MEDITERRANEAN SEA',\n",
       " 'MEXICO',\n",
       " 'MICRONESIA',\n",
       " 'MID ATLANTIC OCEAN',\n",
       " 'MIDPACIFC OCEAN',\n",
       " 'MONACO',\n",
       " 'MONTENEGRO',\n",
       " 'MOROCCO',\n",
       " 'MOZAMBIQUE',\n",
       " 'NAMIBIA',\n",
       " 'NETHERLANDS ANTILLES',\n",
       " 'NEW BRITAIN',\n",
       " 'NEW CALEDONIA',\n",
       " 'NEW GUINEA',\n",
       " 'NEW ZEALAND',\n",
       " 'NICARAGUA',\n",
       " 'NIGERIA',\n",
       " 'NORTH ATLANTIC OCEAN',\n",
       " 'NORTH PACIFIC OCEAN',\n",
       " 'NORTH SEA',\n",
       " 'NORTHERN ARABIAN SEA',\n",
       " 'NORTHERN MARIANA ISLANDS',\n",
       " 'NORWAY',\n",
       " 'OCEAN',\n",
       " 'OKINAWA',\n",
       " 'PACIFIC OCEAN',\n",
       " 'PALAU',\n",
       " 'PALESTINIAN TERRITORIES',\n",
       " 'PANAMA',\n",
       " 'PAPUA NEW GUINEA',\n",
       " 'PARAGUAY',\n",
       " 'PERSIAN GULF',\n",
       " 'PERU',\n",
       " 'PHILIPPINES',\n",
       " 'PORTUGAL',\n",
       " 'PUERTO RICO',\n",
       " 'RED SEA',\n",
       " 'RED SEA / INDIAN OCEAN',\n",
       " 'REUNION',\n",
       " 'REUNION ISLAND',\n",
       " 'ROATAN',\n",
       " 'RUSSIA',\n",
       " 'SAMOA',\n",
       " 'SAN DOMINGO',\n",
       " 'SAUDI ARABIA',\n",
       " 'SCOTLAND',\n",
       " 'SENEGAL',\n",
       " 'SEYCHELLES',\n",
       " 'SIERRA LEONE',\n",
       " 'SINGAPORE',\n",
       " 'SLOVENIA',\n",
       " 'SOLOMON ISLANDS',\n",
       " 'SOLOMON ISLANDS / VANUATU',\n",
       " 'SOMALIA',\n",
       " 'SOUTH AFRICA',\n",
       " 'SOUTH ATLANTIC OCEAN',\n",
       " 'SOUTH CHINA SEA',\n",
       " 'SOUTH KOREA',\n",
       " 'SOUTH PACIFIC OCEAN',\n",
       " 'SOUTHWEST PACIFIC OCEAN',\n",
       " 'SPAIN',\n",
       " 'SRI LANKA',\n",
       " 'ST HELENA BRITISH OVERSEAS TERRITORY',\n",
       " 'ST KITTS / NEVIS',\n",
       " 'ST MAARTIN',\n",
       " 'ST MARTIN',\n",
       " 'SUDAN',\n",
       " 'SWEDEN',\n",
       " 'TAIWAN',\n",
       " 'TANZANIA',\n",
       " 'TASMAN SEA',\n",
       " 'THAILAND',\n",
       " 'THE BALKANS',\n",
       " 'TOBAGO',\n",
       " 'TONGA',\n",
       " 'TRINIDAD',\n",
       " 'TRINIDAD & TOBAGO',\n",
       " 'TUNISIA',\n",
       " 'TURKEY',\n",
       " 'TURKS & CAICOS',\n",
       " 'TURKS AND CAICOS',\n",
       " 'TUVALU',\n",
       " 'UNITED ARAB EMIRATES',\n",
       " 'UNITED ARAB EMIRATES UAE',\n",
       " 'UNITED KINGDOM',\n",
       " 'URUGUAY',\n",
       " 'USA',\n",
       " 'VANUATU',\n",
       " 'VENEZUELA',\n",
       " 'VIETNAM',\n",
       " 'WEST INDIES',\n",
       " 'WESTERN SAMOA',\n",
       " 'YEMEN']"
      ]
     },
     "execution_count": 248,
     "metadata": {},
     "output_type": "execute_result"
    }
   ],
   "source": [
    "sorted(df[\"Country\"].dropna().unique())"
   ]
  },
  {
   "cell_type": "markdown",
   "metadata": {},
   "source": [
    "Vemos que los casos con '/' indican que el incidente ocurrió en la frontera entre dos países"
   ]
  },
  {
   "cell_type": "code",
   "execution_count": 249,
   "metadata": {},
   "outputs": [
    {
     "data": {
      "text/plain": [
       "0.001097867001254705"
      ]
     },
     "execution_count": 249,
     "metadata": {},
     "output_type": "execute_result"
    }
   ],
   "source": [
    "# Vemos cuantos incidentes en fronteras hay\n",
    "df[\"Country\"].str.contains(\"/\").sum() / df[\"Country\"].notnull().sum()"
   ]
  },
  {
   "cell_type": "code",
   "execution_count": 250,
   "metadata": {},
   "outputs": [],
   "source": [
    "# Definimos asignar los incidentes en fronteras a ambos paises\n",
    "df[\"Country\"] = df[\"Country\"].str.split(\"/\")"
   ]
  },
  {
   "cell_type": "code",
   "execution_count": 251,
   "metadata": {},
   "outputs": [],
   "source": [
    "# explode para que cada fila tenga un solo pais\n",
    "df = df.explode('Country')"
   ]
  },
  {
   "cell_type": "code",
   "execution_count": 257,
   "metadata": {},
   "outputs": [],
   "source": [
    "# volvemos a normalizar luego de explotar\n",
    "normalize_countries(df)"
   ]
  },
  {
   "cell_type": "markdown",
   "metadata": {},
   "source": [
    "Ahora leemos el archivo de países e intentamos asignar cada registro a un país reconocido"
   ]
  },
  {
   "cell_type": "code",
   "execution_count": 258,
   "metadata": {},
   "outputs": [],
   "source": [
    "# leo datos de countries https://github.com/google/dspl/blob/master/samples/google/canonical/countries.csv\n",
    "countries = pd.read_csv(\"descargas/countries.csv\")"
   ]
  },
  {
   "cell_type": "code",
   "execution_count": 259,
   "metadata": {},
   "outputs": [],
   "source": [
    "# me quedo con nombre de paises en formato mayuscula y sin espacios al principio y al final\n",
    "standardized_countries = set(countries[\"name\"].str.upper().str.strip())"
   ]
  },
  {
   "cell_type": "code",
   "execution_count": 260,
   "metadata": {},
   "outputs": [
    {
     "data": {
      "text/plain": [
       "{'AFGHANISTAN',\n",
       " 'ALBANIA',\n",
       " 'ALGERIA',\n",
       " 'AMERICAN SAMOA',\n",
       " 'ANDORRA',\n",
       " 'ANGOLA',\n",
       " 'ANGUILLA',\n",
       " 'ANTARCTICA',\n",
       " 'ANTIGUA AND BARBUDA',\n",
       " 'ARGENTINA',\n",
       " 'ARMENIA',\n",
       " 'ARUBA',\n",
       " 'AUSTRALIA',\n",
       " 'AUSTRIA',\n",
       " 'AZERBAIJAN',\n",
       " 'BAHAMAS',\n",
       " 'BAHRAIN',\n",
       " 'BANGLADESH',\n",
       " 'BARBADOS',\n",
       " 'BELARUS',\n",
       " 'BELGIUM',\n",
       " 'BELIZE',\n",
       " 'BENIN',\n",
       " 'BERMUDA',\n",
       " 'BHUTAN',\n",
       " 'BOLIVIA',\n",
       " 'BOSNIA AND HERZEGOVINA',\n",
       " 'BOTSWANA',\n",
       " 'BOUVET ISLAND',\n",
       " 'BRAZIL',\n",
       " 'BRITISH INDIAN OCEAN TERRITORY',\n",
       " 'BRITISH VIRGIN ISLANDS',\n",
       " 'BRUNEI',\n",
       " 'BULGARIA',\n",
       " 'BURKINA FASO',\n",
       " 'BURUNDI',\n",
       " 'CAMBODIA',\n",
       " 'CAMEROON',\n",
       " 'CANADA',\n",
       " 'CAPE VERDE',\n",
       " 'CAYMAN ISLANDS',\n",
       " 'CENTRAL AFRICAN REPUBLIC',\n",
       " 'CHAD',\n",
       " 'CHILE',\n",
       " 'CHINA',\n",
       " 'CHRISTMAS ISLAND',\n",
       " 'COCOS [KEELING] ISLANDS',\n",
       " 'COLOMBIA',\n",
       " 'COMOROS',\n",
       " 'CONGO [DRC]',\n",
       " 'CONGO [REPUBLIC]',\n",
       " 'COOK ISLANDS',\n",
       " 'COSTA RICA',\n",
       " 'CROATIA',\n",
       " 'CUBA',\n",
       " 'CYPRUS',\n",
       " 'CZECH REPUBLIC',\n",
       " \"CÔTE D'IVOIRE\",\n",
       " 'DENMARK',\n",
       " 'DJIBOUTI',\n",
       " 'DOMINICA',\n",
       " 'DOMINICAN REPUBLIC',\n",
       " 'ECUADOR',\n",
       " 'EGYPT',\n",
       " 'EL SALVADOR',\n",
       " 'EQUATORIAL GUINEA',\n",
       " 'ERITREA',\n",
       " 'ESTONIA',\n",
       " 'ETHIOPIA',\n",
       " 'FALKLAND ISLANDS [ISLAS MALVINAS]',\n",
       " 'FAROE ISLANDS',\n",
       " 'FIJI',\n",
       " 'FINLAND',\n",
       " 'FRANCE',\n",
       " 'FRENCH GUIANA',\n",
       " 'FRENCH POLYNESIA',\n",
       " 'FRENCH SOUTHERN TERRITORIES',\n",
       " 'GABON',\n",
       " 'GAMBIA',\n",
       " 'GAZA STRIP',\n",
       " 'GEORGIA',\n",
       " 'GERMANY',\n",
       " 'GHANA',\n",
       " 'GIBRALTAR',\n",
       " 'GREECE',\n",
       " 'GREENLAND',\n",
       " 'GRENADA',\n",
       " 'GUADELOUPE',\n",
       " 'GUAM',\n",
       " 'GUATEMALA',\n",
       " 'GUERNSEY',\n",
       " 'GUINEA',\n",
       " 'GUINEA-BISSAU',\n",
       " 'GUYANA',\n",
       " 'HAITI',\n",
       " 'HEARD ISLAND AND MCDONALD ISLANDS',\n",
       " 'HONDURAS',\n",
       " 'HONG KONG',\n",
       " 'HUNGARY',\n",
       " 'ICELAND',\n",
       " 'INDIA',\n",
       " 'INDONESIA',\n",
       " 'IRAN',\n",
       " 'IRAQ',\n",
       " 'IRELAND',\n",
       " 'ISLE OF MAN',\n",
       " 'ISRAEL',\n",
       " 'ITALY',\n",
       " 'JAMAICA',\n",
       " 'JAPAN',\n",
       " 'JERSEY',\n",
       " 'JORDAN',\n",
       " 'KAZAKHSTAN',\n",
       " 'KENYA',\n",
       " 'KIRIBATI',\n",
       " 'KOSOVO',\n",
       " 'KUWAIT',\n",
       " 'KYRGYZSTAN',\n",
       " 'LAOS',\n",
       " 'LATVIA',\n",
       " 'LEBANON',\n",
       " 'LESOTHO',\n",
       " 'LIBERIA',\n",
       " 'LIBYA',\n",
       " 'LIECHTENSTEIN',\n",
       " 'LITHUANIA',\n",
       " 'LUXEMBOURG',\n",
       " 'MACAU',\n",
       " 'MACEDONIA [FYROM]',\n",
       " 'MADAGASCAR',\n",
       " 'MALAWI',\n",
       " 'MALAYSIA',\n",
       " 'MALDIVES',\n",
       " 'MALI',\n",
       " 'MALTA',\n",
       " 'MARSHALL ISLANDS',\n",
       " 'MARTINIQUE',\n",
       " 'MAURITANIA',\n",
       " 'MAURITIUS',\n",
       " 'MAYOTTE',\n",
       " 'MEXICO',\n",
       " 'MICRONESIA',\n",
       " 'MOLDOVA',\n",
       " 'MONACO',\n",
       " 'MONGOLIA',\n",
       " 'MONTENEGRO',\n",
       " 'MONTSERRAT',\n",
       " 'MOROCCO',\n",
       " 'MOZAMBIQUE',\n",
       " 'MYANMAR [BURMA]',\n",
       " 'NAMIBIA',\n",
       " 'NAURU',\n",
       " 'NEPAL',\n",
       " 'NETHERLANDS',\n",
       " 'NETHERLANDS ANTILLES',\n",
       " 'NEW CALEDONIA',\n",
       " 'NEW ZEALAND',\n",
       " 'NICARAGUA',\n",
       " 'NIGER',\n",
       " 'NIGERIA',\n",
       " 'NIUE',\n",
       " 'NORFOLK ISLAND',\n",
       " 'NORTH KOREA',\n",
       " 'NORTHERN MARIANA ISLANDS',\n",
       " 'NORWAY',\n",
       " 'OMAN',\n",
       " 'PAKISTAN',\n",
       " 'PALAU',\n",
       " 'PALESTINIAN TERRITORIES',\n",
       " 'PANAMA',\n",
       " 'PAPUA NEW GUINEA',\n",
       " 'PARAGUAY',\n",
       " 'PERU',\n",
       " 'PHILIPPINES',\n",
       " 'PITCAIRN ISLANDS',\n",
       " 'POLAND',\n",
       " 'PORTUGAL',\n",
       " 'PUERTO RICO',\n",
       " 'QATAR',\n",
       " 'ROMANIA',\n",
       " 'RUSSIA',\n",
       " 'RWANDA',\n",
       " 'RÉUNION',\n",
       " 'SAINT HELENA',\n",
       " 'SAINT KITTS AND NEVIS',\n",
       " 'SAINT LUCIA',\n",
       " 'SAINT PIERRE AND MIQUELON',\n",
       " 'SAINT VINCENT AND THE GRENADINES',\n",
       " 'SAMOA',\n",
       " 'SAN MARINO',\n",
       " 'SAUDI ARABIA',\n",
       " 'SENEGAL',\n",
       " 'SERBIA',\n",
       " 'SEYCHELLES',\n",
       " 'SIERRA LEONE',\n",
       " 'SINGAPORE',\n",
       " 'SLOVAKIA',\n",
       " 'SLOVENIA',\n",
       " 'SOLOMON ISLANDS',\n",
       " 'SOMALIA',\n",
       " 'SOUTH AFRICA',\n",
       " 'SOUTH GEORGIA AND THE SOUTH SANDWICH ISLANDS',\n",
       " 'SOUTH KOREA',\n",
       " 'SPAIN',\n",
       " 'SRI LANKA',\n",
       " 'SUDAN',\n",
       " 'SURINAME',\n",
       " 'SVALBARD AND JAN MAYEN',\n",
       " 'SWAZILAND',\n",
       " 'SWEDEN',\n",
       " 'SWITZERLAND',\n",
       " 'SYRIA',\n",
       " 'SÃO TOMÉ AND PRÍNCIPE',\n",
       " 'TAIWAN',\n",
       " 'TAJIKISTAN',\n",
       " 'TANZANIA',\n",
       " 'THAILAND',\n",
       " 'TIMOR-LESTE',\n",
       " 'TOGO',\n",
       " 'TOKELAU',\n",
       " 'TONGA',\n",
       " 'TRINIDAD AND TOBAGO',\n",
       " 'TUNISIA',\n",
       " 'TURKEY',\n",
       " 'TURKMENISTAN',\n",
       " 'TURKS AND CAICOS ISLANDS',\n",
       " 'TUVALU',\n",
       " 'U.S. MINOR OUTLYING ISLANDS',\n",
       " 'U.S. VIRGIN ISLANDS',\n",
       " 'UGANDA',\n",
       " 'UKRAINE',\n",
       " 'UNITED ARAB EMIRATES',\n",
       " 'UNITED KINGDOM',\n",
       " 'UNITED STATES',\n",
       " 'URUGUAY',\n",
       " 'UZBEKISTAN',\n",
       " 'VANUATU',\n",
       " 'VATICAN CITY',\n",
       " 'VENEZUELA',\n",
       " 'VIETNAM',\n",
       " 'WALLIS AND FUTUNA',\n",
       " 'WESTERN SAHARA',\n",
       " 'YEMEN',\n",
       " 'ZAMBIA',\n",
       " 'ZIMBABWE'}"
      ]
     },
     "execution_count": 260,
     "metadata": {},
     "output_type": "execute_result"
    }
   ],
   "source": [
    "standardized_countries"
   ]
  },
  {
   "cell_type": "markdown",
   "metadata": {},
   "source": [
    "Nos interesa saber cuantos registros incluyen un país válido"
   ]
  },
  {
   "cell_type": "code",
   "execution_count": 264,
   "metadata": {},
   "outputs": [],
   "source": [
    "df[\"is_valid_country\"] = df[\"Country\"].isin(standardized_countries)"
   ]
  },
  {
   "cell_type": "code",
   "execution_count": 265,
   "metadata": {},
   "outputs": [
    {
     "name": "stdout",
     "output_type": "stream",
     "text": [
      "Registros con pais válido: 58.51 %\n"
     ]
    }
   ],
   "source": [
    "ratio_registros_con_pais_valido = df[\"is_valid_country\"].sum() / len(df)\n",
    "print(f\"Registros con pais válido: {ratio_registros_con_pais_valido * 100:.2f} %\")"
   ]
  },
  {
   "cell_type": "markdown",
   "metadata": {},
   "source": [
    "Lo que sigue intenta imputar los registros inválidos en algunos de los países reconocidos"
   ]
  },
  {
   "cell_type": "code",
   "execution_count": 274,
   "metadata": {},
   "outputs": [
    {
     "data": {
      "text/plain": [
       "['ADMIRALTY ISLANDS',\n",
       " 'AFRICA',\n",
       " 'ANDAMAN',\n",
       " 'ANDAMAN ISLANDS',\n",
       " 'ANTIGUA',\n",
       " 'ASIA',\n",
       " 'ATLANTIC OCEAN',\n",
       " 'AZORES',\n",
       " 'BAHREIN',\n",
       " 'BAY OF BENGAL',\n",
       " 'BETWEEN PORTUGAL & INDIA',\n",
       " 'BRITISH ISLES',\n",
       " 'BRITISH NEW GUINEA',\n",
       " 'BRITISH OVERSEAS TERRITORY',\n",
       " 'BRITISH WEST INDIES',\n",
       " 'BURMA',\n",
       " 'CARIBBEAN SEA',\n",
       " 'CENTRAL PACIFIC',\n",
       " 'CEYLON',\n",
       " 'CEYLON SRI LANKA',\n",
       " 'COAST OF AFRICA',\n",
       " 'COLUMBIA',\n",
       " 'CORAL SEA',\n",
       " 'CRETE',\n",
       " 'CURACAO',\n",
       " 'DIEGO GARCIA',\n",
       " 'ENGLAND',\n",
       " 'FALKLAND ISLANDS',\n",
       " 'FEDERATED STATES OF MICRONESIA',\n",
       " 'GRAND CAYMAN',\n",
       " 'GULF OF ADEN',\n",
       " 'INDIAN OCEAN',\n",
       " 'JAVA',\n",
       " 'JOHNSTON ISLAND',\n",
       " 'KOREA',\n",
       " 'MALDIVE ISLANDS',\n",
       " 'MEDITERRANEAN SEA',\n",
       " 'MID ATLANTIC OCEAN',\n",
       " 'MIDPACIFC OCEAN',\n",
       " 'NEVIS',\n",
       " 'NEW BRITAIN',\n",
       " 'NEW GUINEA',\n",
       " 'NICOBAR ISLANDAS',\n",
       " 'NORTH ATLANTIC OCEAN',\n",
       " 'NORTH PACIFIC OCEAN',\n",
       " 'NORTH SEA',\n",
       " 'NORTHERN ARABIAN SEA',\n",
       " 'OCEAN',\n",
       " 'OKINAWA',\n",
       " 'PACIFIC OCEAN',\n",
       " 'PERSIAN GULF',\n",
       " 'RED SEA',\n",
       " 'REUNION',\n",
       " 'REUNION ISLAND',\n",
       " 'ROATAN',\n",
       " 'SAN DOMINGO',\n",
       " 'SCOTLAND',\n",
       " 'SOUTH ATLANTIC OCEAN',\n",
       " 'SOUTH CHINA SEA',\n",
       " 'SOUTH PACIFIC OCEAN',\n",
       " 'SOUTHWEST PACIFIC OCEAN',\n",
       " 'ST HELENA BRITISH OVERSEAS TERRITORY',\n",
       " 'ST KITTS',\n",
       " 'ST MAARTIN',\n",
       " 'ST MARTIN',\n",
       " 'TASMAN SEA',\n",
       " 'THE BALKANS',\n",
       " 'TOBAGO',\n",
       " 'TRINIDAD',\n",
       " 'TRINIDAD & TOBAGO',\n",
       " 'TURKS & CAICOS',\n",
       " 'TURKS AND CAICOS',\n",
       " 'UNITED ARAB EMIRATES UAE',\n",
       " 'USA',\n",
       " 'WEST INDIES',\n",
       " 'WESTERN SAMOA']"
      ]
     },
     "execution_count": 274,
     "metadata": {},
     "output_type": "execute_result"
    }
   ],
   "source": [
    "# Vemos que países no son válidos\n",
    "sorted(df[~df[\"is_valid_country\"]][\"Country\"].unique())"
   ]
  },
  {
   "cell_type": "markdown",
   "metadata": {},
   "source": [
    "Armamos manualmente dos estructuras de datos: una para mapear valores de Country a un país estandarizado, otro para eliminar registros no válidos"
   ]
  },
  {
   "cell_type": "code",
   "execution_count": 275,
   "metadata": {},
   "outputs": [],
   "source": [
    "mapped_countries = {\n",
    "    \"TOBAGO\": \"TRINIDAD AND TOBAGO\",\n",
    "    \"ENGLAND\": \"UNITED KINGDOM\",\n",
    "    \"WESTERN SAMOA\": \"SAMOA\",\n",
    "    \"SAN DOMINGO\": \"DOMINICAN REPUBLIC\",\n",
    "    \"ROATAN\": \"HONDURAS\",\n",
    "    \"ADMIRALTY ISLANDS\": \"PAPUA NEW GUINEA\",\n",
    "    \"ANDAMAN\": \"MYANMAR [BURMA]\",\n",
    "    \"ANDAMAN ISLANDS\": \"MYANMAR [BURMA]\",\n",
    "    \"ANTIGUA\": \"ANTIGUA AND BARBUDA\",\n",
    "    \"AZORES\": \"PORTUGAL\",\n",
    "    \"BAHREIN\": \"BAHRAIN\",\n",
    "    \"BRITISH NEW GUINEA\": \"PAPUA NEW GUINEA\",\n",
    "    \"BURMA\": \"MYANMAR [BURMA]\",\n",
    "    \"CEYLON\": \"SRI LANKA\",\n",
    "    \"CEYLON SRI LANKA\": \"SRI LANKA\",\n",
    "    \"CRETE\": \"GREECE\",\n",
    "    \"CURACAO\": \"CURAÇAO\",\n",
    "    \"ENGLAND\": \"UNITED KINGDOM\",\n",
    "    \"FALKLAND ISLANDS\": \"FALKLAND ISLANDS [ISLAS MALVINAS]\",\n",
    "    \"FEDERATED STATES OF MICRONESIA\": \"MICRONESIA\",\n",
    "    \"GRAND CAYMAN\": \"CAYMAN ISLANDS\",\n",
    "    \"GULF OF ADEN\": \"YEMEN\",\n",
    "    \"JAVA\": \"INDONESIA\",\n",
    "    \"JOHNSTON ISLAND\": \"UNITED STATES\",\n",
    "    \"KOREA\": \"SOUTH KOREA\",\n",
    "    \"MALDIVE ISLANDS\": \"MALDIVES\",\n",
    "    \"NEVIS\": \"SAINT KITTS AND NEVIS\",\n",
    "    \"NEW BRITAIN\": \"PAPUA NEW GUINEA\",\n",
    "    \"NEW GUINEA\": \"PAPUA NEW GUINEA\",\n",
    "    \"NICOBAR ISLANDAS\": \"INDIA\",\n",
    "    \"OKINAWA\": \"JAPAN\",\n",
    "    \"REUNION\": \"RÉUNION\",\n",
    "    \"REUNION ISLAND\": \"RÉUNION\",\n",
    "    \"ROATAN\": \"HONDURAS\",\n",
    "    \"SAN DOMINGO\": \"DOMINICAN REPUBLIC\",\n",
    "    \"SCOTLAND\": \"UNITED KINGDOM\",\n",
    "    \"ST HELENA BRITISH OVERSEAS TERRITORY\": \"SAINT HELENA\",\n",
    "    \"ST KITTS\": \"SAINT KITTS AND NEVIS\",\n",
    "    \"ST MAARTIN\": \"SAINT MARTIN\",\n",
    "    \"ST MARTIN\": \"SAINT MARTIN\",\n",
    "    \"TOBAGO\": \"TRINIDAD AND TOBAGO\",\n",
    "    \"TRINIDAD\": \"TRINIDAD AND TOBAGO\",\n",
    "    \"TRINIDAD & TOBAGO\": \"TRINIDAD AND TOBAGO\",\n",
    "    \"TURKS & CAICOS\": \"TURKS AND CAICOS ISLANDS\",\n",
    "    \"TURKS AND CAICOS\": \"TURKS AND CAICOS ISLANDS\",\n",
    "    \"UNITED ARAB EMIRATES UAE\": \"UNITED ARAB EMIRATES\",\n",
    "    \"USA\": \"UNITED STATES\",    \n",
    "    \"WESTERN SAMOA\": \"SAMOA\"\n",
    "}\n",
    "\n",
    "blacklist = {\"WEST INDIES\", \"THE BALKANS\", \"TASMAN SEA\", \"SOUTHWEST PACIFIC OCEAN\", \"SOUTH PACIFIC OCEAN\", \"SOUTH CHINA SEA\", \"SOUTH ATLANTIC OCEAN\", \"RED SEA\", \"PERSIAN GULF\", \"PACIFIC OCEAN\", \"OCEAN\", \"NORTHERN ARABIAN SEA\", \"NORTH SEA\", \"NORTH PACIFIC OCEAN\", \"NORTH ATLANTIC OCEAN\", \"MIDPACIFC OCEAN\", \"MID ATLANTIC OCEAN\", \"MEDITERRANEAN SEA\", \"INDIAN OCEAN\", \"CORAL SEA\", \"COLUMBIA\", \"COAST OF AFRICA\", \"CENTRAL PACIFIC\", \"CARIBBEAN SEA\", \"BRITISH WEST INDIES\", \"BRITISH ISLES\", \"COLUMBIA\", \"BRITISH OVERSEAS TERRITORY\", \"AFRICA\", \"ASIA\", \"ATLANTIC OCEAN\", \"BAY OF BENGAL\", \"BETWEEN PORTUGAL & INDIA\"}"
   ]
  },
  {
   "cell_type": "code",
   "execution_count": 277,
   "metadata": {},
   "outputs": [],
   "source": [
    "# Drop filas que tienen country en blacklist\n",
    "df = df[~df[\"Country\"].isin(blacklist)]"
   ]
  },
  {
   "cell_type": "code",
   "execution_count": 278,
   "metadata": {},
   "outputs": [],
   "source": [
    "# Reemplazamos country por valores válidos\n",
    "df[\"Country\"] = df[\"Country\"].replace(mapped_countries)"
   ]
  },
  {
   "cell_type": "markdown",
   "metadata": {},
   "source": [
    "Finalmente, obtenemos un recuento de incidentes por país"
   ]
  },
  {
   "cell_type": "code",
   "execution_count": 279,
   "metadata": {},
   "outputs": [
    {
     "data": {
      "text/plain": [
       "UNITED STATES                        2357\n",
       "AUSTRALIA                            1365\n",
       "SOUTH AFRICA                          533\n",
       "PAPUA NEW GUINEA                      152\n",
       "BAHAMAS                               132\n",
       "NEW ZEALAND                           132\n",
       "BRAZIL                                112\n",
       "MEXICO                                 95\n",
       "FIJI                                   69\n",
       "RÉUNION                                65\n",
       "NEW CALEDONIA                          64\n",
       "PHILIPPINES                            60\n",
       "ITALY                                  60\n",
       "EGYPT                                  49\n",
       "CUBA                                   46\n",
       "MOZAMBIQUE                             42\n",
       "INDIA                                  41\n",
       "UNITED KINGDOM                         41\n",
       "FRENCH POLYNESIA                       37\n",
       "JAPAN                                  37\n",
       "SPAIN                                  36\n",
       "PANAMA                                 31\n",
       "SOLOMON ISLANDS                        31\n",
       "IRAN                                   30\n",
       "JAMAICA                                28\n",
       "CROATIA                                28\n",
       "HONG KONG                              24\n",
       "INDONESIA                              24\n",
       "GREECE                                 20\n",
       "SRI LANKA                              16\n",
       "TONGA                                  16\n",
       "COSTA RICA                             16\n",
       "VANUATU                                15\n",
       "VIETNAM                                15\n",
       "BERMUDA                                13\n",
       "CANADA                                 13\n",
       "IRAQ                                   13\n",
       "THAILAND                               12\n",
       "TURKEY                                 11\n",
       "FRANCE                                 11\n",
       "ECUADOR                                11\n",
       "SAMOA                                  11\n",
       "VENEZUELA                              11\n",
       "MARSHALL ISLANDS                       11\n",
       "MAURITIUS                              10\n",
       "KENYA                                  10\n",
       "SIERRA LEONE                            9\n",
       "TAIWAN                                  9\n",
       "YEMEN                                   9\n",
       "SOUTH KOREA                             9\n",
       "SENEGAL                                 9\n",
       "CHINA                                   9\n",
       "SEYCHELLES                              9\n",
       "DOMINICAN REPUBLIC                      8\n",
       "ISRAEL                                  8\n",
       "MALDIVES                                8\n",
       "CHILE                                   8\n",
       "TANZANIA                                7\n",
       "NICARAGUA                               7\n",
       "PORTUGAL                                7\n",
       "TURKS AND CAICOS ISLANDS                7\n",
       "BELIZE                                  7\n",
       "MADAGASCAR                              7\n",
       "SINGAPORE                               6\n",
       "MYANMAR [BURMA]                         6\n",
       "BARBADOS                                6\n",
       "HONDURAS                                6\n",
       "KIRIBATI                                6\n",
       "TRINIDAD AND TOBAGO                     6\n",
       "LIBYA                                   6\n",
       "MALTA                                   5\n",
       "SUDAN                                   5\n",
       "PALAU                                   5\n",
       "SOMALIA                                 5\n",
       "MALAYSIA                                4\n",
       "GRENADA                                 4\n",
       "SAUDI ARABIA                            4\n",
       "URUGUAY                                 4\n",
       "MICRONESIA                              4\n",
       "NIGERIA                                 4\n",
       "RUSSIA                                  4\n",
       "EL SALVADOR                             4\n",
       "GUAM                                    3\n",
       "AMERICAN SAMOA                          3\n",
       "TUNISIA                                 3\n",
       "SAINT MARTIN                            3\n",
       "UNITED ARAB EMIRATES                    3\n",
       "MARTINIQUE                              3\n",
       "LEBANON                                 3\n",
       "GUINEA                                  2\n",
       "ARGENTINA                               2\n",
       "MONTENEGRO                              2\n",
       "LIBERIA                                 2\n",
       "SAINT KITTS AND NEVIS                   2\n",
       "HAITI                                   2\n",
       "GUYANA                                  2\n",
       "IRELAND                                 2\n",
       "NAMIBIA                                 2\n",
       "PERU                                    2\n",
       "SAINT HELENA                            2\n",
       "CAMEROON                                1\n",
       "GEORGIA                                 1\n",
       "KUWAIT                                  1\n",
       "FALKLAND ISLANDS [ISLAS MALVINAS]       1\n",
       "CYPRUS                                  1\n",
       "ANTIGUA AND BARBUDA                     1\n",
       "PARAGUAY                                1\n",
       "TUVALU                                  1\n",
       "DJIBOUTI                                1\n",
       "GHANA                                   1\n",
       "GREENLAND                               1\n",
       "ALGERIA                                 1\n",
       "COOK ISLANDS                            1\n",
       "EQUATORIAL GUINEA                       1\n",
       "SWEDEN                                  1\n",
       "GABON                                   1\n",
       "MONACO                                  1\n",
       "CAPE VERDE                              1\n",
       "NORWAY                                  1\n",
       "PALESTINIAN TERRITORIES                 1\n",
       "DIEGO GARCIA                            1\n",
       "CAYMAN ISLANDS                          1\n",
       "PUERTO RICO                             1\n",
       "ARUBA                                   1\n",
       "ANGOLA                                  1\n",
       "BANGLADESH                              1\n",
       "JORDAN                                  1\n",
       "COLOMBIA                                1\n",
       "MAYOTTE                                 1\n",
       "NETHERLANDS ANTILLES                    1\n",
       "NORTHERN MARIANA ISLANDS                1\n",
       "SLOVENIA                                1\n",
       "CURAÇAO                                 1\n",
       "ICELAND                                 1\n",
       "MOROCCO                                 1\n",
       "BAHRAIN                                 1\n",
       "Name: Country, dtype: int64"
      ]
     },
     "execution_count": 279,
     "metadata": {},
     "output_type": "execute_result"
    }
   ],
   "source": [
    "df[\"Country\"].value_counts()"
   ]
  },
  {
   "cell_type": "code",
   "execution_count": null,
   "metadata": {},
   "outputs": [],
   "source": []
  }
 ],
 "metadata": {
  "kernelspec": {
   "display_name": ".venv",
   "language": "python",
   "name": "python3"
  },
  "language_info": {
   "codemirror_mode": {
    "name": "ipython",
    "version": 3
   },
   "file_extension": ".py",
   "mimetype": "text/x-python",
   "name": "python",
   "nbconvert_exporter": "python",
   "pygments_lexer": "ipython3",
   "version": "3.7.3"
  }
 },
 "nbformat": 4,
 "nbformat_minor": 4
}
